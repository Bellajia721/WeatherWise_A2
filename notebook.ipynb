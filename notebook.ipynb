{
  "cells": [
    {
      "cell_type": "markdown",
      "metadata": {
        "id": "view-in-github",
        "colab_type": "text"
      },
      "source": [
        "<a href=\"https://colab.research.google.com/github/Bellajia721/WeatherWise_A2/blob/main/starter_notebook.ipynb\" target=\"_parent\"><img src=\"https://colab.research.google.com/assets/colab-badge.svg\" alt=\"Open In Colab\"/></a>"
      ]
    },
    {
      "cell_type": "markdown",
      "id": "72e78a05",
      "metadata": {
        "id": "72e78a05"
      },
      "source": [
        "# 🌦️ WeatherWise – Starter Notebook\n",
        "\n",
        "Welcome to your **WeatherWise** project notebook! This scaffold is designed to help you build your weather advisor app using Python, visualisations, and AI-enhanced development.\n",
        "\n",
        "---\n",
        "\n",
        "📄 **Full Assignment Specification**  \n",
        "See [`ASSIGNMENT.md`](ASSIGNMENT.md) or check the LMS for full details.\n",
        "\n",
        "📝 **Quick Refresher**  \n",
        "A one-page summary is available in [`resources/assignment-summary.md`](resources/assignment-summary.md).\n",
        "\n",
        "---\n",
        "\n",
        "🧠 **This Notebook Structure is Optional**  \n",
        "You’re encouraged to reorganise, rename sections, or remove scaffold cells if you prefer — as long as your final version meets the requirements.\n",
        "\n",
        "✅ You may delete this note before submission.\n",
        "\n"
      ]
    },
    {
      "cell_type": "markdown",
      "id": "fa8c7f6c",
      "metadata": {
        "id": "fa8c7f6c"
      },
      "source": [
        "## 🧰 Setup and Imports\n",
        "\n",
        "This section imports commonly used packages and installs any additional tools used in the project.\n",
        "\n",
        "- You may not need all of these unless you're using specific features (e.g. visualisations, advanced prompting).\n",
        "- The notebook assumes the following packages are **pre-installed** in the provided environment or installable via pip:\n",
        "  - `requests`, `matplotlib`, `pyinputplus`\n",
        "  - `fetch-my-weather` (for accessing weather data easily)\n",
        "  - `hands-on-ai` (for AI logging, comparisons, or prompting tools)\n",
        "\n",
        "If you're running this notebook in **Google Colab**, uncomment the following lines to install the required packages.\n"
      ]
    },
    {
      "cell_type": "code",
      "execution_count": 42,
      "id": "70c3f3f1",
      "metadata": {
        "id": "70c3f3f1",
        "collapsed": true,
        "colab": {
          "base_uri": "https://localhost:8080/"
        },
        "outputId": "05c64f33-0d2e-4cfc-d610-fd755201578a"
      },
      "outputs": [
        {
          "output_type": "stream",
          "name": "stdout",
          "text": [
            "Requirement already satisfied: fetch-my-weather in /usr/local/lib/python3.12/dist-packages (0.4.0)\n",
            "Requirement already satisfied: requests>=2.25.0 in /usr/local/lib/python3.12/dist-packages (from fetch-my-weather) (2.32.4)\n",
            "Requirement already satisfied: pydantic>=1.8.0 in /usr/local/lib/python3.12/dist-packages (from fetch-my-weather) (2.11.10)\n",
            "Requirement already satisfied: annotated-types>=0.6.0 in /usr/local/lib/python3.12/dist-packages (from pydantic>=1.8.0->fetch-my-weather) (0.7.0)\n",
            "Requirement already satisfied: pydantic-core==2.33.2 in /usr/local/lib/python3.12/dist-packages (from pydantic>=1.8.0->fetch-my-weather) (2.33.2)\n",
            "Requirement already satisfied: typing-extensions>=4.12.2 in /usr/local/lib/python3.12/dist-packages (from pydantic>=1.8.0->fetch-my-weather) (4.15.0)\n",
            "Requirement already satisfied: typing-inspection>=0.4.0 in /usr/local/lib/python3.12/dist-packages (from pydantic>=1.8.0->fetch-my-weather) (0.4.2)\n",
            "Requirement already satisfied: charset_normalizer<4,>=2 in /usr/local/lib/python3.12/dist-packages (from requests>=2.25.0->fetch-my-weather) (3.4.4)\n",
            "Requirement already satisfied: idna<4,>=2.5 in /usr/local/lib/python3.12/dist-packages (from requests>=2.25.0->fetch-my-weather) (3.11)\n",
            "Requirement already satisfied: urllib3<3,>=1.21.1 in /usr/local/lib/python3.12/dist-packages (from requests>=2.25.0->fetch-my-weather) (2.5.0)\n",
            "Requirement already satisfied: certifi>=2017.4.17 in /usr/local/lib/python3.12/dist-packages (from requests>=2.25.0->fetch-my-weather) (2025.10.5)\n",
            "Requirement already satisfied: hands-on-ai in /usr/local/lib/python3.12/dist-packages (0.2.1)\n",
            "Requirement already satisfied: requests in /usr/local/lib/python3.12/dist-packages (from hands-on-ai) (2.32.4)\n",
            "Requirement already satisfied: typer in /usr/local/lib/python3.12/dist-packages (from hands-on-ai) (0.19.2)\n",
            "Requirement already satisfied: python-fasthtml in /usr/local/lib/python3.12/dist-packages (from hands-on-ai) (0.12.30)\n",
            "Requirement already satisfied: python-docx in /usr/local/lib/python3.12/dist-packages (from hands-on-ai) (1.2.0)\n",
            "Requirement already satisfied: pymupdf in /usr/local/lib/python3.12/dist-packages (from hands-on-ai) (1.26.5)\n",
            "Requirement already satisfied: scikit-learn in /usr/local/lib/python3.12/dist-packages (from hands-on-ai) (1.6.1)\n",
            "Requirement already satisfied: numpy in /usr/local/lib/python3.12/dist-packages (from hands-on-ai) (2.0.2)\n",
            "Requirement already satisfied: instructor>=1.11.0 in /usr/local/lib/python3.12/dist-packages (from hands-on-ai) (1.11.3)\n",
            "Requirement already satisfied: pydantic>=2.0 in /usr/local/lib/python3.12/dist-packages (from hands-on-ai) (2.11.10)\n",
            "Requirement already satisfied: aiohttp<4.0.0,>=3.9.1 in /usr/local/lib/python3.12/dist-packages (from instructor>=1.11.0->hands-on-ai) (3.13.0)\n",
            "Requirement already satisfied: diskcache>=5.6.3 in /usr/local/lib/python3.12/dist-packages (from instructor>=1.11.0->hands-on-ai) (5.6.3)\n",
            "Requirement already satisfied: docstring-parser<1.0,>=0.16 in /usr/local/lib/python3.12/dist-packages (from instructor>=1.11.0->hands-on-ai) (0.17.0)\n",
            "Requirement already satisfied: jinja2<4.0.0,>=3.1.4 in /usr/local/lib/python3.12/dist-packages (from instructor>=1.11.0->hands-on-ai) (3.1.6)\n",
            "Requirement already satisfied: jiter<0.11,>=0.6.1 in /usr/local/lib/python3.12/dist-packages (from instructor>=1.11.0->hands-on-ai) (0.10.0)\n",
            "Requirement already satisfied: openai<2.0.0,>=1.70.0 in /usr/local/lib/python3.12/dist-packages (from instructor>=1.11.0->hands-on-ai) (1.109.1)\n",
            "Requirement already satisfied: pydantic-core<3.0.0,>=2.18.0 in /usr/local/lib/python3.12/dist-packages (from instructor>=1.11.0->hands-on-ai) (2.33.2)\n",
            "Requirement already satisfied: rich<15.0.0,>=13.7.0 in /usr/local/lib/python3.12/dist-packages (from instructor>=1.11.0->hands-on-ai) (13.9.4)\n",
            "Requirement already satisfied: tenacity<10.0.0,>=8.2.3 in /usr/local/lib/python3.12/dist-packages (from instructor>=1.11.0->hands-on-ai) (8.5.0)\n",
            "Requirement already satisfied: annotated-types>=0.6.0 in /usr/local/lib/python3.12/dist-packages (from pydantic>=2.0->hands-on-ai) (0.7.0)\n",
            "Requirement already satisfied: typing-extensions>=4.12.2 in /usr/local/lib/python3.12/dist-packages (from pydantic>=2.0->hands-on-ai) (4.15.0)\n",
            "Requirement already satisfied: typing-inspection>=0.4.0 in /usr/local/lib/python3.12/dist-packages (from pydantic>=2.0->hands-on-ai) (0.4.2)\n",
            "Requirement already satisfied: charset_normalizer<4,>=2 in /usr/local/lib/python3.12/dist-packages (from requests->hands-on-ai) (3.4.4)\n",
            "Requirement already satisfied: idna<4,>=2.5 in /usr/local/lib/python3.12/dist-packages (from requests->hands-on-ai) (3.11)\n",
            "Requirement already satisfied: urllib3<3,>=1.21.1 in /usr/local/lib/python3.12/dist-packages (from requests->hands-on-ai) (2.5.0)\n",
            "Requirement already satisfied: certifi>=2017.4.17 in /usr/local/lib/python3.12/dist-packages (from requests->hands-on-ai) (2025.10.5)\n",
            "Requirement already satisfied: click>=8.0.0 in /usr/local/lib/python3.12/dist-packages (from typer->hands-on-ai) (8.3.0)\n",
            "Requirement already satisfied: shellingham>=1.3.0 in /usr/local/lib/python3.12/dist-packages (from typer->hands-on-ai) (1.5.4)\n",
            "Requirement already satisfied: lxml>=3.1.0 in /usr/local/lib/python3.12/dist-packages (from python-docx->hands-on-ai) (5.4.0)\n",
            "Requirement already satisfied: fastcore>=1.8.1 in /usr/local/lib/python3.12/dist-packages (from python-fasthtml->hands-on-ai) (1.8.12)\n",
            "Requirement already satisfied: python-dateutil in /usr/local/lib/python3.12/dist-packages (from python-fasthtml->hands-on-ai) (2.9.0.post0)\n",
            "Requirement already satisfied: starlette>0.33 in /usr/local/lib/python3.12/dist-packages (from python-fasthtml->hands-on-ai) (0.48.0)\n",
            "Requirement already satisfied: oauthlib in /usr/local/lib/python3.12/dist-packages (from python-fasthtml->hands-on-ai) (3.3.1)\n",
            "Requirement already satisfied: itsdangerous in /usr/local/lib/python3.12/dist-packages (from python-fasthtml->hands-on-ai) (2.2.0)\n",
            "Requirement already satisfied: uvicorn>=0.30 in /usr/local/lib/python3.12/dist-packages (from uvicorn[standard]>=0.30->python-fasthtml->hands-on-ai) (0.37.0)\n",
            "Requirement already satisfied: httpx in /usr/local/lib/python3.12/dist-packages (from python-fasthtml->hands-on-ai) (0.28.1)\n",
            "Requirement already satisfied: fastlite>=0.1.1 in /usr/local/lib/python3.12/dist-packages (from python-fasthtml->hands-on-ai) (0.2.1)\n",
            "Requirement already satisfied: python-multipart in /usr/local/lib/python3.12/dist-packages (from python-fasthtml->hands-on-ai) (0.0.20)\n",
            "Requirement already satisfied: beautifulsoup4 in /usr/local/lib/python3.12/dist-packages (from python-fasthtml->hands-on-ai) (4.13.5)\n",
            "Requirement already satisfied: scipy>=1.6.0 in /usr/local/lib/python3.12/dist-packages (from scikit-learn->hands-on-ai) (1.16.2)\n",
            "Requirement already satisfied: joblib>=1.2.0 in /usr/local/lib/python3.12/dist-packages (from scikit-learn->hands-on-ai) (1.5.2)\n",
            "Requirement already satisfied: threadpoolctl>=3.1.0 in /usr/local/lib/python3.12/dist-packages (from scikit-learn->hands-on-ai) (3.6.0)\n",
            "Requirement already satisfied: aiohappyeyeballs>=2.5.0 in /usr/local/lib/python3.12/dist-packages (from aiohttp<4.0.0,>=3.9.1->instructor>=1.11.0->hands-on-ai) (2.6.1)\n",
            "Requirement already satisfied: aiosignal>=1.4.0 in /usr/local/lib/python3.12/dist-packages (from aiohttp<4.0.0,>=3.9.1->instructor>=1.11.0->hands-on-ai) (1.4.0)\n",
            "Requirement already satisfied: attrs>=17.3.0 in /usr/local/lib/python3.12/dist-packages (from aiohttp<4.0.0,>=3.9.1->instructor>=1.11.0->hands-on-ai) (25.4.0)\n",
            "Requirement already satisfied: frozenlist>=1.1.1 in /usr/local/lib/python3.12/dist-packages (from aiohttp<4.0.0,>=3.9.1->instructor>=1.11.0->hands-on-ai) (1.8.0)\n",
            "Requirement already satisfied: multidict<7.0,>=4.5 in /usr/local/lib/python3.12/dist-packages (from aiohttp<4.0.0,>=3.9.1->instructor>=1.11.0->hands-on-ai) (6.7.0)\n",
            "Requirement already satisfied: propcache>=0.2.0 in /usr/local/lib/python3.12/dist-packages (from aiohttp<4.0.0,>=3.9.1->instructor>=1.11.0->hands-on-ai) (0.4.1)\n",
            "Requirement already satisfied: yarl<2.0,>=1.17.0 in /usr/local/lib/python3.12/dist-packages (from aiohttp<4.0.0,>=3.9.1->instructor>=1.11.0->hands-on-ai) (1.22.0)\n",
            "Requirement already satisfied: packaging in /usr/local/lib/python3.12/dist-packages (from fastcore>=1.8.1->python-fasthtml->hands-on-ai) (25.0)\n",
            "Requirement already satisfied: apswutils>=0.1.0 in /usr/local/lib/python3.12/dist-packages (from fastlite>=0.1.1->python-fasthtml->hands-on-ai) (0.1.0)\n",
            "Requirement already satisfied: MarkupSafe>=2.0 in /usr/local/lib/python3.12/dist-packages (from jinja2<4.0.0,>=3.1.4->instructor>=1.11.0->hands-on-ai) (3.0.3)\n",
            "Requirement already satisfied: anyio<5,>=3.5.0 in /usr/local/lib/python3.12/dist-packages (from openai<2.0.0,>=1.70.0->instructor>=1.11.0->hands-on-ai) (4.11.0)\n",
            "Requirement already satisfied: distro<2,>=1.7.0 in /usr/local/lib/python3.12/dist-packages (from openai<2.0.0,>=1.70.0->instructor>=1.11.0->hands-on-ai) (1.9.0)\n",
            "Requirement already satisfied: sniffio in /usr/local/lib/python3.12/dist-packages (from openai<2.0.0,>=1.70.0->instructor>=1.11.0->hands-on-ai) (1.3.1)\n",
            "Requirement already satisfied: tqdm>4 in /usr/local/lib/python3.12/dist-packages (from openai<2.0.0,>=1.70.0->instructor>=1.11.0->hands-on-ai) (4.67.1)\n",
            "Requirement already satisfied: httpcore==1.* in /usr/local/lib/python3.12/dist-packages (from httpx->python-fasthtml->hands-on-ai) (1.0.9)\n",
            "Requirement already satisfied: h11>=0.16 in /usr/local/lib/python3.12/dist-packages (from httpcore==1.*->httpx->python-fasthtml->hands-on-ai) (0.16.0)\n",
            "Requirement already satisfied: markdown-it-py>=2.2.0 in /usr/local/lib/python3.12/dist-packages (from rich<15.0.0,>=13.7.0->instructor>=1.11.0->hands-on-ai) (4.0.0)\n",
            "Requirement already satisfied: pygments<3.0.0,>=2.13.0 in /usr/local/lib/python3.12/dist-packages (from rich<15.0.0,>=13.7.0->instructor>=1.11.0->hands-on-ai) (2.19.2)\n",
            "Requirement already satisfied: httptools>=0.6.3 in /usr/local/lib/python3.12/dist-packages (from uvicorn[standard]>=0.30->python-fasthtml->hands-on-ai) (0.7.1)\n",
            "Requirement already satisfied: python-dotenv>=0.13 in /usr/local/lib/python3.12/dist-packages (from uvicorn[standard]>=0.30->python-fasthtml->hands-on-ai) (1.1.1)\n",
            "Requirement already satisfied: pyyaml>=5.1 in /usr/local/lib/python3.12/dist-packages (from uvicorn[standard]>=0.30->python-fasthtml->hands-on-ai) (6.0.3)\n",
            "Requirement already satisfied: uvloop>=0.15.1 in /usr/local/lib/python3.12/dist-packages (from uvicorn[standard]>=0.30->python-fasthtml->hands-on-ai) (0.22.1)\n",
            "Requirement already satisfied: watchfiles>=0.13 in /usr/local/lib/python3.12/dist-packages (from uvicorn[standard]>=0.30->python-fasthtml->hands-on-ai) (1.1.1)\n",
            "Requirement already satisfied: websockets>=10.4 in /usr/local/lib/python3.12/dist-packages (from uvicorn[standard]>=0.30->python-fasthtml->hands-on-ai) (15.0.1)\n",
            "Requirement already satisfied: soupsieve>1.2 in /usr/local/lib/python3.12/dist-packages (from beautifulsoup4->python-fasthtml->hands-on-ai) (2.8)\n",
            "Requirement already satisfied: six>=1.5 in /usr/local/lib/python3.12/dist-packages (from python-dateutil->python-fasthtml->hands-on-ai) (1.17.0)\n",
            "Requirement already satisfied: apsw in /usr/local/lib/python3.12/dist-packages (from apswutils>=0.1.0->fastlite>=0.1.1->python-fasthtml->hands-on-ai) (3.50.4.0)\n",
            "Requirement already satisfied: mdurl~=0.1 in /usr/local/lib/python3.12/dist-packages (from markdown-it-py>=2.2.0->rich<15.0.0,>=13.7.0->instructor>=1.11.0->hands-on-ai) (0.1.2)\n",
            "Requirement already satisfied: requests in /usr/local/lib/python3.12/dist-packages (2.32.4)\n",
            "Requirement already satisfied: charset_normalizer<4,>=2 in /usr/local/lib/python3.12/dist-packages (from requests) (3.4.4)\n",
            "Requirement already satisfied: idna<4,>=2.5 in /usr/local/lib/python3.12/dist-packages (from requests) (3.11)\n",
            "Requirement already satisfied: urllib3<3,>=1.21.1 in /usr/local/lib/python3.12/dist-packages (from requests) (2.5.0)\n",
            "Requirement already satisfied: certifi>=2017.4.17 in /usr/local/lib/python3.12/dist-packages (from requests) (2025.10.5)\n",
            "Requirement already satisfied: matplotlib in /usr/local/lib/python3.12/dist-packages (3.10.0)\n",
            "Requirement already satisfied: contourpy>=1.0.1 in /usr/local/lib/python3.12/dist-packages (from matplotlib) (1.3.3)\n",
            "Requirement already satisfied: cycler>=0.10 in /usr/local/lib/python3.12/dist-packages (from matplotlib) (0.12.1)\n",
            "Requirement already satisfied: fonttools>=4.22.0 in /usr/local/lib/python3.12/dist-packages (from matplotlib) (4.60.1)\n",
            "Requirement already satisfied: kiwisolver>=1.3.1 in /usr/local/lib/python3.12/dist-packages (from matplotlib) (1.4.9)\n",
            "Requirement already satisfied: numpy>=1.23 in /usr/local/lib/python3.12/dist-packages (from matplotlib) (2.0.2)\n",
            "Requirement already satisfied: packaging>=20.0 in /usr/local/lib/python3.12/dist-packages (from matplotlib) (25.0)\n",
            "Requirement already satisfied: pillow>=8 in /usr/local/lib/python3.12/dist-packages (from matplotlib) (11.3.0)\n",
            "Requirement already satisfied: pyparsing>=2.3.1 in /usr/local/lib/python3.12/dist-packages (from matplotlib) (3.2.5)\n",
            "Requirement already satisfied: python-dateutil>=2.7 in /usr/local/lib/python3.12/dist-packages (from matplotlib) (2.9.0.post0)\n",
            "Requirement already satisfied: six>=1.5 in /usr/local/lib/python3.12/dist-packages (from python-dateutil>=2.7->matplotlib) (1.17.0)\n",
            "Requirement already satisfied: pyinputplus in /usr/local/lib/python3.12/dist-packages (0.2.12)\n",
            "Requirement already satisfied: pysimplevalidate>=0.2.7 in /usr/local/lib/python3.12/dist-packages (from pyinputplus) (0.2.12)\n",
            "Requirement already satisfied: stdiomask>=0.0.3 in /usr/local/lib/python3.12/dist-packages (from pyinputplus) (0.0.6)\n",
            "Requirement already satisfied: spacy in /usr/local/lib/python3.12/dist-packages (3.8.7)\n",
            "Requirement already satisfied: spacy-legacy<3.1.0,>=3.0.11 in /usr/local/lib/python3.12/dist-packages (from spacy) (3.0.12)\n",
            "Requirement already satisfied: spacy-loggers<2.0.0,>=1.0.0 in /usr/local/lib/python3.12/dist-packages (from spacy) (1.0.5)\n",
            "Requirement already satisfied: murmurhash<1.1.0,>=0.28.0 in /usr/local/lib/python3.12/dist-packages (from spacy) (1.0.13)\n",
            "Requirement already satisfied: cymem<2.1.0,>=2.0.2 in /usr/local/lib/python3.12/dist-packages (from spacy) (2.0.11)\n",
            "Requirement already satisfied: preshed<3.1.0,>=3.0.2 in /usr/local/lib/python3.12/dist-packages (from spacy) (3.0.10)\n",
            "Requirement already satisfied: thinc<8.4.0,>=8.3.4 in /usr/local/lib/python3.12/dist-packages (from spacy) (8.3.6)\n",
            "Requirement already satisfied: wasabi<1.2.0,>=0.9.1 in /usr/local/lib/python3.12/dist-packages (from spacy) (1.1.3)\n",
            "Requirement already satisfied: srsly<3.0.0,>=2.4.3 in /usr/local/lib/python3.12/dist-packages (from spacy) (2.5.1)\n",
            "Requirement already satisfied: catalogue<2.1.0,>=2.0.6 in /usr/local/lib/python3.12/dist-packages (from spacy) (2.0.10)\n",
            "Requirement already satisfied: weasel<0.5.0,>=0.1.0 in /usr/local/lib/python3.12/dist-packages (from spacy) (0.4.1)\n",
            "Requirement already satisfied: typer<1.0.0,>=0.3.0 in /usr/local/lib/python3.12/dist-packages (from spacy) (0.19.2)\n",
            "Requirement already satisfied: tqdm<5.0.0,>=4.38.0 in /usr/local/lib/python3.12/dist-packages (from spacy) (4.67.1)\n",
            "Requirement already satisfied: numpy>=1.19.0 in /usr/local/lib/python3.12/dist-packages (from spacy) (2.0.2)\n",
            "Requirement already satisfied: requests<3.0.0,>=2.13.0 in /usr/local/lib/python3.12/dist-packages (from spacy) (2.32.4)\n",
            "Requirement already satisfied: pydantic!=1.8,!=1.8.1,<3.0.0,>=1.7.4 in /usr/local/lib/python3.12/dist-packages (from spacy) (2.11.10)\n",
            "Requirement already satisfied: jinja2 in /usr/local/lib/python3.12/dist-packages (from spacy) (3.1.6)\n",
            "Requirement already satisfied: setuptools in /usr/local/lib/python3.12/dist-packages (from spacy) (75.2.0)\n",
            "Requirement already satisfied: packaging>=20.0 in /usr/local/lib/python3.12/dist-packages (from spacy) (25.0)\n",
            "Requirement already satisfied: langcodes<4.0.0,>=3.2.0 in /usr/local/lib/python3.12/dist-packages (from spacy) (3.5.0)\n",
            "Requirement already satisfied: language-data>=1.2 in /usr/local/lib/python3.12/dist-packages (from langcodes<4.0.0,>=3.2.0->spacy) (1.3.0)\n",
            "Requirement already satisfied: annotated-types>=0.6.0 in /usr/local/lib/python3.12/dist-packages (from pydantic!=1.8,!=1.8.1,<3.0.0,>=1.7.4->spacy) (0.7.0)\n",
            "Requirement already satisfied: pydantic-core==2.33.2 in /usr/local/lib/python3.12/dist-packages (from pydantic!=1.8,!=1.8.1,<3.0.0,>=1.7.4->spacy) (2.33.2)\n",
            "Requirement already satisfied: typing-extensions>=4.12.2 in /usr/local/lib/python3.12/dist-packages (from pydantic!=1.8,!=1.8.1,<3.0.0,>=1.7.4->spacy) (4.15.0)\n",
            "Requirement already satisfied: typing-inspection>=0.4.0 in /usr/local/lib/python3.12/dist-packages (from pydantic!=1.8,!=1.8.1,<3.0.0,>=1.7.4->spacy) (0.4.2)\n",
            "Requirement already satisfied: charset_normalizer<4,>=2 in /usr/local/lib/python3.12/dist-packages (from requests<3.0.0,>=2.13.0->spacy) (3.4.4)\n",
            "Requirement already satisfied: idna<4,>=2.5 in /usr/local/lib/python3.12/dist-packages (from requests<3.0.0,>=2.13.0->spacy) (3.11)\n",
            "Requirement already satisfied: urllib3<3,>=1.21.1 in /usr/local/lib/python3.12/dist-packages (from requests<3.0.0,>=2.13.0->spacy) (2.5.0)\n",
            "Requirement already satisfied: certifi>=2017.4.17 in /usr/local/lib/python3.12/dist-packages (from requests<3.0.0,>=2.13.0->spacy) (2025.10.5)\n",
            "Requirement already satisfied: blis<1.4.0,>=1.3.0 in /usr/local/lib/python3.12/dist-packages (from thinc<8.4.0,>=8.3.4->spacy) (1.3.0)\n",
            "Requirement already satisfied: confection<1.0.0,>=0.0.1 in /usr/local/lib/python3.12/dist-packages (from thinc<8.4.0,>=8.3.4->spacy) (0.1.5)\n",
            "Requirement already satisfied: click>=8.0.0 in /usr/local/lib/python3.12/dist-packages (from typer<1.0.0,>=0.3.0->spacy) (8.3.0)\n",
            "Requirement already satisfied: shellingham>=1.3.0 in /usr/local/lib/python3.12/dist-packages (from typer<1.0.0,>=0.3.0->spacy) (1.5.4)\n",
            "Requirement already satisfied: rich>=10.11.0 in /usr/local/lib/python3.12/dist-packages (from typer<1.0.0,>=0.3.0->spacy) (13.9.4)\n",
            "Requirement already satisfied: cloudpathlib<1.0.0,>=0.7.0 in /usr/local/lib/python3.12/dist-packages (from weasel<0.5.0,>=0.1.0->spacy) (0.23.0)\n",
            "Requirement already satisfied: smart-open<8.0.0,>=5.2.1 in /usr/local/lib/python3.12/dist-packages (from weasel<0.5.0,>=0.1.0->spacy) (7.3.1)\n",
            "Requirement already satisfied: MarkupSafe>=2.0 in /usr/local/lib/python3.12/dist-packages (from jinja2->spacy) (3.0.3)\n",
            "Requirement already satisfied: marisa-trie>=1.1.0 in /usr/local/lib/python3.12/dist-packages (from language-data>=1.2->langcodes<4.0.0,>=3.2.0->spacy) (1.3.1)\n",
            "Requirement already satisfied: markdown-it-py>=2.2.0 in /usr/local/lib/python3.12/dist-packages (from rich>=10.11.0->typer<1.0.0,>=0.3.0->spacy) (4.0.0)\n",
            "Requirement already satisfied: pygments<3.0.0,>=2.13.0 in /usr/local/lib/python3.12/dist-packages (from rich>=10.11.0->typer<1.0.0,>=0.3.0->spacy) (2.19.2)\n",
            "Requirement already satisfied: wrapt in /usr/local/lib/python3.12/dist-packages (from smart-open<8.0.0,>=5.2.1->weasel<0.5.0,>=0.1.0->spacy) (1.17.3)\n",
            "Requirement already satisfied: mdurl~=0.1 in /usr/local/lib/python3.12/dist-packages (from markdown-it-py>=2.2.0->rich>=10.11.0->typer<1.0.0,>=0.3.0->spacy) (0.1.2)\n"
          ]
        }
      ],
      "source": [
        "# 🧪 Optional packages — uncomment if needed in Colab or JupyterHub\n",
        "!pip install fetch-my-weather\n",
        "!pip install hands-on-ai\n",
        "!pip install requests\n",
        "!pip install matplotlib\n",
        "!pip install pyinputplus\n",
        "!pip install spacy"
      ]
    },
    {
      "cell_type": "code",
      "source": [
        "import os\n",
        "\n",
        "os.environ['HANDS_ON_AI_SERVER'] = 'http://ollama.serveur.au'\n",
        "os.environ['HANDS_ON_AI_MODEL'] = 'granite3.2'\n",
        "os.environ['HANDS_ON_AI_API_KEY'] = input('Enter your API key: ')"
      ],
      "metadata": {
        "id": "B2JKlJfrGgIb",
        "colab": {
          "base_uri": "https://localhost:8080/"
        },
        "outputId": "7a8c8dff-e5fe-4793-854d-30a5ab7f1fe3"
      },
      "id": "B2JKlJfrGgIb",
      "execution_count": 43,
      "outputs": [
        {
          "name": "stdout",
          "output_type": "stream",
          "text": [
            "Enter your API key: d6ee01b95e1b492baa06b8d295907578.EN_MdtgVL5KhHIQtW024XQJJ\n"
          ]
        }
      ]
    },
    {
      "cell_type": "markdown",
      "id": "59ae7543",
      "metadata": {
        "id": "59ae7543"
      },
      "source": [
        "## 📦 Setup and Configuration\n",
        "Import required packages and setup environment."
      ]
    },
    {
      "cell_type": "code",
      "execution_count": 66,
      "id": "f1dd051e",
      "metadata": {
        "id": "f1dd051e",
        "collapsed": true
      },
      "outputs": [],
      "source": [
        "import requests\n",
        "import matplotlib.pyplot as plt\n",
        "import pyinputplus as pyip\n",
        "import json\n",
        "import re\n",
        "import spacy\n",
        "# ✅ Import after installing (if needed)\n",
        "from fetch_my_weather import get_weather\n",
        "from hands_on_ai.chat import get_response\n",
        "# Add any other setup code here\n",
        "from ipywidgets import Text, DatePicker, Button, VBox, HTML, Tab\n",
        "from IPython.display import display\n",
        "from datetime import datetime, timedelta\n",
        "from hands_on_ai.chat import get_response\n",
        "\n",
        "def ai_extend_forecast(weather_data: dict, extra_days: int = 2):\n",
        "    if not weather_data or \"daily\" not in weather_data or len(weather_data[\"daily\"]) == 0:\n",
        "        print(\"⚠️ No base daily data to extend.\")\n",
        "        return weather_data\n",
        "\n",
        "    base_days = weather_data[\"daily\"][-3:]\n",
        "    compact = [\n",
        "        {\n",
        "            \"date\": d.get(\"date\"),\n",
        "            \"max_temp\": d.get(\"maxtempC\"),\n",
        "            \"min_temp\": d.get(\"mintempC\"),\n",
        "            \"average_temp\": d.get(\"avgtempC\"),\n",
        "            \"total_precip\": d.get(\"totalprecipMM\"),\n",
        "        }\n",
        "        for d in base_days\n",
        "    ]\n",
        "\n",
        "    prompt = f\"\"\"\n",
        "    You are a cautious weather assistant.\n",
        "    Based on the last real 3 daily records below:\n",
        "    {compact}\n",
        "    Estimate the next {extra_days} days' weather with realistic smooth trends.\n",
        "    Return ONLY JSON list with keys: date, max_temp, min_temp, average_temp, total_precip.\n",
        "    \"\"\"\n",
        "\n",
        "    raw = get_response(prompt)\n",
        "    print(\"AI raw output:\", raw)\n",
        "\n",
        "    try:\n",
        "        estimates = json.loads(raw)\n",
        "    except:\n",
        "        print(\" Model output not JSON — skipping extension.\")\n",
        "        return weather_data\n",
        "\n",
        "    last_date = datetime.strptime(base_days[-1][\"date\"], \"%Y-%m-%d\").date()\n",
        "    for i, e in enumerate(estimates):\n",
        "        e[\"date\"] = (last_date + timedelta(days=i + 1)).isoformat()\n",
        "        e[\"ai_estimated\"] = True\n",
        "        weather_data[\"daily\"].append(e)\n",
        "\n",
        "    return weather_data\n"
      ]
    },
    {
      "cell_type": "markdown",
      "id": "f736ade3",
      "metadata": {
        "id": "f736ade3"
      },
      "source": [
        "## 🌤️ Weather Data Functions"
      ]
    },
    {
      "cell_type": "code",
      "execution_count": 45,
      "id": "7a2c7cd0",
      "metadata": {
        "id": "7a2c7cd0"
      },
      "outputs": [],
      "source": [
        "# Define get_weather_data() function here\n",
        "def get_weather_data(location, forecast_days=5):\n",
        "    \"\"\"\n",
        "    Retrieve weather data for a specified location.\n",
        "\n",
        "    Args:\n",
        "        location (str): City or location name\n",
        "        forecast_days (int): Number of days to forecast (1-5)\n",
        "\n",
        "    Returns:\n",
        "        dict: Weather data including current conditions and forecast\n",
        "    \"\"\"\n",
        "    try:\n",
        "      raw = get_weather(location = location, format=\"raw_json\", use_mock = False)\n",
        "      if isinstance(raw, str) and raw.startswith(\"Error:\"):\n",
        "        print(f\"Weather API returned an error response: {raw}\")\n",
        "        return None\n",
        "    except Exception as e:\n",
        "      print(f\"An error occurred: {e}\")\n",
        "      return None\n",
        "\n",
        "    current_weather = (raw.get(\"current_condition\") or [{}])[0]\n",
        "    desc = None\n",
        "    if current_weather.get(\"weatherDesc\"):\n",
        "      desc = (current_weather[\"weatherDesc\"][0] or {}).get(\"value\")\n",
        "    forecast_weather = (raw.get(\"weather\") or [])[:forecast_days]\n",
        "\n",
        "    return {\n",
        "        \"location\": location,\n",
        "        \"current_weather\": {\n",
        "            \"temperature\": current_weather.get(\"temp_C\"),\n",
        "            \"windspeed\": current_weather.get(\"windspeedKmph\"),\n",
        "            \"humidity\": current_weather.get(\"humidity\"),\n",
        "            \"precipitation\": current_weather.get(\"precipMM\"),\n",
        "            \"descripption\": desc\n",
        "        },\n",
        "        \"daily\":[\n",
        "            {\n",
        "                 \"date\": d.get(\"date\"),\n",
        "                 \"average_temp\": d.get(\"avgtempC\"),\n",
        "                 \"windspeed\": d.get(\"MaxwindKmph\"),\n",
        "                 \"humidity\": d.get(\"avghumidity\"),\n",
        "                 \"total_precip\": d.get(\"totalprecipMM\"),\n",
        "                 \"max_temp\": d.get(\"maxtempC\"),\n",
        "                 \"min_temp\": d.get(\"mintempC\"),\n",
        "        }\n",
        "        for d in forecast_weather\n",
        "      ]\n",
        "    }"
      ]
    },
    {
      "cell_type": "markdown",
      "id": "8a744fdc",
      "metadata": {
        "id": "8a744fdc"
      },
      "source": [
        "## 📊 Visualisation Functions"
      ]
    },
    {
      "cell_type": "code",
      "execution_count": 46,
      "id": "9dc3bf85",
      "metadata": {
        "id": "9dc3bf85"
      },
      "outputs": [],
      "source": [
        "# Define create_temperature_visualisation() and create_precipitation_visualisation() here\n",
        "def create_temperature_visualisation(weather_data, output_type='display'):\n",
        "    \"\"\"\n",
        "    Create visualisation of temperature data.\n",
        "\n",
        "    Args:\n",
        "        weather_data (dict): The processed weather data\n",
        "        output_type (str): Either 'display' to show in notebook or 'figure' to return the figure\n",
        "\n",
        "    Returns:\n",
        "        If output_type is 'figure', returns the matplotlib figure object\n",
        "        Otherwise, displays the visualisation in the notebook\n",
        "    \"\"\"\n",
        "    if not \"daily\" in weather_data:\n",
        "      print(\"No temperature data available\")\n",
        "      return None\n",
        "\n",
        "    days = weather_data[\"daily\"]\n",
        "    dates = [d[\"date\"] for d in days]\n",
        "    avg_temp = [float(d[\"average_temp\"]) for d in days]\n",
        "    max_temp = [float(d[\"max_temp\"]) for d in days]\n",
        "    min_temp = [float(d[\"min_temp\"]) for d in days]\n",
        "\n",
        "    fig, ax = plt.subplots(figsize=(10, 6))\n",
        "    ax.plot(dates, avg_temp, label ='Average Temperature(°C)', color = 'green', marker ='o')\n",
        "    ax.plot(dates, max_temp, label ='Maximum Temperature(°C)', color = 'red', marker ='^')\n",
        "    ax.plot(dates, min_temp, label ='Minimum Temperature(°C)', color = 'blue', marker ='v')\n",
        "    ax.set_xlabel('Date')\n",
        "    ax.set_ylabel('Temperature (°C)')\n",
        "    ax.set_title('Temperature Trends')\n",
        "    ax.legend()\n",
        "    ax.grid(True)\n",
        "    plt.xticks(rotation=30)\n",
        "\n",
        "    if output_type == 'figure':\n",
        "      return fig\n",
        "    else:\n",
        "      plt.show()\n"
      ]
    },
    {
      "cell_type": "code",
      "source": [
        "def create_precipitation_visualisation(weather_data, output_type='display'):\n",
        "    \"\"\"\n",
        "    Create visualisation of precipitation data.\n",
        "\n",
        "    Args:\n",
        "        weather_data (dict): The processed weather data\n",
        "        output_type (str): Either 'display' to show in notebook or 'figure' to return the figure\n",
        "\n",
        "    Returns:\n",
        "        If output_type is 'figure', returns the matplotlib figure object\n",
        "        Otherwise, displays the visualisation in the notebook\n",
        "    \"\"\"\n",
        "    if not \"daily\" in weather_data:\n",
        "      print(\"No precipitation data available\")\n",
        "      return None\n",
        "    days = weather_data[\"daily\"]\n",
        "    dates = [d[\"date\"] for d in days]\n",
        "    total_precip = [float(d.get(\"total_precip\") or 0) for d in days]\n",
        "\n",
        "    fig, ax = plt.subplots(figsize=(10, 6))\n",
        "    ax.plot(dates, total_precip, label='Total Precipitation (mm)', color='darkblue', marker='s')\n",
        "    ax.set_xlabel('Date')\n",
        "    ax.set_ylabel('Precipitation (mm)')\n",
        "    ax.set_title('Precipitation Trends')\n",
        "    ax.legend()\n",
        "    ax.grid(True)\n",
        "    plt.xticks(rotation=30)\n",
        "\n",
        "    if output_type == 'figure':\n",
        "      return fig\n",
        "    else:\n",
        "      plt.show()"
      ],
      "metadata": {
        "id": "JIv3M3s4igyw"
      },
      "execution_count": 47,
      "outputs": [],
      "id": "JIv3M3s4igyw"
    },
    {
      "cell_type": "code",
      "source": [
        "def create_windspeed_visualisation(weather_data, output_type='display'):\n",
        "  if not \"daily\" in weather_data:\n",
        "    print(\"No windspeed data available\")\n",
        "    return None\n",
        "  days = weather_data[\"daily\"]\n",
        "  dates = [d[\"date\"] for d in days]\n",
        "  windspeed = [float(d.get(\"windspeed\") or 0) for d in days]\n",
        "\n",
        "  fig, ax = plt.subplots(figsize=(10, 6))\n",
        "  ax.plot(dates, windspeed, label='Wind Speed (km/h)', color='purple', marker='D')\n",
        "  ax.set_xlabel('Date')\n",
        "  ax.set_ylabel('Wind Speed (km/h)')\n",
        "  ax.set_title('Wind Speed Trends')\n",
        "  ax.legend()\n",
        "  ax.grid(True)\n",
        "  plt.xticks(rotation=30)\n",
        "\n",
        "  if output_type == 'figure':\n",
        "    return fig\n",
        "  else:\n",
        "    plt.show()"
      ],
      "metadata": {
        "id": "g7VVKVF219IB"
      },
      "id": "g7VVKVF219IB",
      "execution_count": 48,
      "outputs": []
    },
    {
      "cell_type": "code",
      "source": [
        "def create_humidity_visualisation(weather_data, output_type='display'):\n",
        "  if not \"daily\" in weather_data:\n",
        "    print(\"No humidity data available\")\n",
        "    return None\n",
        "  days = weather_data[\"daily\"]\n",
        "  dates = [d[\"date\"] for d in days]\n",
        "  humidity = [float(d.get(\"humidity\") or 0) for d in days]\n",
        "  fig, ax = plt.subplots(figsize=(10, 6))\n",
        "  ax.plot(dates, humidity, label='Humidity (%)', color='orange', marker='h')\n",
        "  ax.set_xlabel('Date')\n",
        "  ax.set_ylabel('Humidity (%)')\n",
        "  ax.set_title('Humidity Trends')\n",
        "  ax.legend()\n",
        "  ax.grid(True)\n",
        "  plt.xticks(rotation=30)\n",
        "\n",
        "  if output_type == 'figure':\n",
        "    return fig\n",
        "  else:\n",
        "    plt.show()"
      ],
      "metadata": {
        "id": "eUuIUNRd2dm8"
      },
      "id": "eUuIUNRd2dm8",
      "execution_count": 49,
      "outputs": []
    },
    {
      "cell_type": "markdown",
      "id": "9f95d160",
      "metadata": {
        "id": "9f95d160"
      },
      "source": [
        "## 🤖 Natural Language Processing"
      ]
    },
    {
      "cell_type": "code",
      "execution_count": 59,
      "id": "bcc5833e",
      "metadata": {
        "id": "bcc5833e",
        "collapsed": true
      },
      "outputs": [],
      "source": [
        "# Define parse_weather_question() and generate_weather_response() here\n",
        "def parse_weather_question(question):\n",
        "    \"\"\"\n",
        "    Parse a natural language weather question.\n",
        "\n",
        "    Args:\n",
        "        question (str): User's weather-related question\n",
        "\n",
        "    Returns:\n",
        "        dict: Extracted information including location, time period, and weather attribute\n",
        "    \"\"\"\n",
        "    weekdays = {\n",
        "        \"monday\": 1, \"mon\": 1,\n",
        "        \"tuesday\": 2, \"tue\": 2,\n",
        "        \"wednesday\": 3, \"wed\": 3,\n",
        "        \"thursday\": 4, \"thu\": 4,\n",
        "        \"friday\": 5, \"fri\": 5,\n",
        "        \"saturday\": 6, \"sat\": 6,\n",
        "        \"sunday\": 7, \"sun\": 7\n",
        "    }\n",
        "    weather_keywords = {\n",
        "        \"temperature\": {\"temp\", \"temperature\", \"hot\", \"cold\", \"warm\", \"cool\"},\n",
        "        \"precipitation\": {\"precipitation\", \"rain\", \"snow\", \"precip\"},\n",
        "        \"wind\": {\"wind\", \"windy\"},\n",
        "        \"humidity\": {\"humidity\", \"humid\", \"dry\", \"wet\"},\n",
        "        \"summary\": {\"weather\", \"forecast\", \"summary\"},\n",
        "    }\n",
        "    def find_weather_keywords(question: str):\n",
        "      text = question.lower()\n",
        "      for keyword, values in weather_keywords.items():\n",
        "        for value in values:\n",
        "          if value in text:\n",
        "            return keyword\n",
        "      return \"summary\"\n",
        "\n",
        "    text = question.lower()\n",
        "\n",
        "    when = None\n",
        "    if \"today\" in text:\n",
        "      when = \"today\"\n",
        "    elif \"tomorrow\" in text:\n",
        "      when = \"tomorrow\"\n",
        "    else:\n",
        "      for day, number in weekdays.items():\n",
        "        if day in text:\n",
        "          when = number\n",
        "          break\n",
        "\n",
        "    model = spacy.load(\"en_core_web_sm\")\n",
        "    def find_location(text):\n",
        "      doc = model(text)\n",
        "      location = None\n",
        "      for ent in doc.ents:\n",
        "        if ent.label_ == \"GPE\":\n",
        "          location = ent.text\n",
        "          break\n",
        "      return location\n",
        "\n",
        "    location = find_location(question)\n",
        "    attribute = find_weather_keywords(question)\n",
        "\n",
        "    return {\n",
        "        \"City\": location,\n",
        "        \"Date\": when,\n",
        "        \"attribute\": attribute\n",
        "    }\n",
        "\n",
        "\n",
        ""
      ]
    },
    {
      "cell_type": "markdown",
      "id": "0d85225e",
      "metadata": {
        "id": "0d85225e"
      },
      "source": [
        "## 🧭 User Interface"
      ]
    },
    {
      "cell_type": "code",
      "execution_count": null,
      "id": "fa6cb0f6",
      "metadata": {
        "id": "fa6cb0f6"
      },
      "outputs": [],
      "source": [
        "# Define menu functions using pyinputplus or ipywidgets here\n",
        "city_input = Text(description = 'City:', placeholder = 'e.g. Perth')\n",
        "date_input = DatePicker(description = 'Date:')\n",
        "submit_button = Button(description='Get Weather', button_style='success')\n",
        "status_box = HTML(value='')\n",
        "output_box = HTML(value='')\n",
        "\n",
        "\n",
        "def on_submit_button_click(b):\n",
        "  if True:\n",
        "    city = city_input.value\n",
        "    date = date_input.value.strftime('%m-%d-%y')\n",
        "    print(f'City: {city}')\n",
        "    print(f'Date: {date}')\n",
        "\n",
        "\n",
        "  if not city_input:\n",
        "    status_box.value = \"Please enter a city.\"\n",
        "  if not date_input:\n",
        "    status_box.value = \"Please pick a date.\"\n",
        "\n",
        "  try:\n",
        "    city = city_input.value\n",
        "    data = get_weather_data(city, forecast_days = 5)\n",
        "    ai_extend_forecast(data)\n",
        "\n",
        "    def format_daily_weather_lines(d):\n",
        "      date = d.get(\"date_input\")\n",
        "      max_temp = d.get(\"max_temp\")\n",
        "      min_temp = d.get(\"min_temp\")\n",
        "      average_temp = d.get(\"average_temp\")\n",
        "      total_precip = d.get(\"total_precip\")\n",
        "      windspeed = d.get(\"windspeed\")\n",
        "      humidity = d.get(\"humidity\")\n",
        "      return f\"{date}: Max: {max_temp}°C, Min: {min_temp}°C, Avg: {average_temp}°C, Precip: {total_precip}mm, Wind: {windspeed}km/h, Humidity: {humidity}%\"\n",
        "\n",
        "    output_box.value = format_daily_weather_lines(data)\n",
        "    create_temperature_visualisation(data)\n",
        "    create_precipitation_visualisation(data)\n",
        "    create_windspeed_visualisation(data)\n",
        "    create_humidity_visualisation(data)\n",
        "  except Exception as e:\n",
        "    status_box.value = f\"Error: {e}\"\n",
        "\n",
        "nlp_input = Text(\n",
        "    description='Ask:',\n",
        "    placeholder='e.g. Will it rain in Perth tomorrow?'\n",
        ")\n",
        "parse_btn = Button(description='Auto-fill', button_style='info')\n",
        "\n",
        "def when_to_date(when):\n",
        "  if when is None:\n",
        "    return None\n",
        "  today = datetime.today().date()\n",
        "  if isinstance(when, str):\n",
        "    time = when.lower().strip()\n",
        "    if time == \"today\":\n",
        "      return today\n",
        "    if time == \"tomorrow\":\n",
        "      return today + timedelta(days=1)\n",
        "    return when\n",
        "  if isinstance(when, int) and 1 <= when <= 7:\n",
        "    today_weekday = today.weekday()\n",
        "    when_weekday = (today_weekday + when) % 7\n",
        "    if when_weekday < today_weekday:\n",
        "      when_weekday += 7\n",
        "    return today + timedelta(days=when_weekday - today_weekday)\n",
        "  return None\n",
        "\n",
        "def on_parse_btn_click(b):\n",
        "  question = nlp_input.value\n",
        "  if not question:\n",
        "        status_box.value = \"Please enter a question.\"\n",
        "        return\n",
        "  parsed = parse_weather_question(question)\n",
        "  city = parsed.get(\"City\")\n",
        "  when = when_to_date(parsed.get(\"Date\"))\n",
        "  attribute = parsed.get(\"attribute\")\n",
        "  if city:\n",
        "        city_input.value = city\n",
        "  if when:\n",
        "        date_input.value = when\n",
        "\n",
        "parse_btn.on_click(on_parse_btn_click)\n",
        "\n",
        "manual_box = VBox([city_input, date_input, submit_button])\n",
        "nlp_box = VBox([nlp_input, parse_btn])\n",
        "\n",
        "tabs = Tab(children=[manual_box, nlp_box])\n",
        "tabs.set_title(0, 'Manual')\n",
        "tabs.set_title(1, 'Natural language')\n",
        "\n",
        "display(tabs)\n",
        "\n",
        "submit_button.on_click(on_submit_button_click)\n",
        "\n",
        "display(VBox([status_box, output_box]))\n"
      ]
    },
    {
      "cell_type": "markdown",
      "id": "d643a53c",
      "metadata": {
        "id": "d643a53c"
      },
      "source": [
        "## 🧩 Main Application Logic"
      ]
    },
    {
      "cell_type": "code",
      "execution_count": 84,
      "id": "a9e2e805",
      "metadata": {
        "id": "a9e2e805"
      },
      "outputs": [],
      "source": [
        "from ast import Attribute\n",
        "# Tie everything together here\n",
        "def generate_weather_response(parsed_question, weather_data):\n",
        "    \"\"\"\n",
        "    Generate a natural language response to a weather question.\n",
        "\n",
        "    Args:\n",
        "        parsed_question (dict): Parsed question data\n",
        "        weather_data (dict): Weather data\n",
        "\n",
        "    Returns:\n",
        "        str: Natural language response\n",
        "    \"\"\"\n",
        "    if not weather_data:\n",
        "        return \"Sorry, I couldn't get any weather data.\"\n",
        "\n",
        "    city = weather_data.get(\"location\") or parsed_question.get(\"City\") or \"the location\"\n",
        "    attribute = (parsed_question.get(\"attribute\") or \"summary\").lower()\n",
        "    when = parsed_question.get(\"Date\")\n",
        "\n",
        "    daily = weather_data.get(\"daily\", [])\n",
        "    if not daily:\n",
        "        return f\"I got weather for {city}, but there are no daily entries to summarise.\"\n",
        "    target_date = when_to_date(when)\n",
        "    daily = weather_data[\"daily\"]\n",
        "\n",
        "    chosen = None\n",
        "    chosen_dt = None\n",
        "\n",
        "    if target_date is not None:\n",
        "        iso = target_date.isoformat()\n",
        "        for d in daily:\n",
        "            if (d.get(\"date\") or \"\").startswith(iso):\n",
        "                chosen = d\n",
        "                chosen_dt = target_date\n",
        "                break\n",
        "\n",
        "    if chosen is None and daily:\n",
        "        chosen = daily[0]\n",
        "        try:\n",
        "            chosen_dt = datetime.strptime(chosen.get(\"date\", \"\"), \"%Y-%m-%d\").date()\n",
        "        except Exception:\n",
        "            chosen_dt = None\n",
        "\n",
        "    if chosen_dt:\n",
        "      date_text = chosen_dt.strftime(\"%A, %B %d\")   # 例如：Monday, October 21\n",
        "    else:\n",
        "      date_text = chosen.get(\"date\", \"Unknown date\")\n",
        "\n",
        "    average_temp = chosen.get(\"average_temp\")\n",
        "    max_temp = chosen.get(\"max_temp\")\n",
        "    min_temp = chosen.get(\"min_temp\")\n",
        "    total_precipitation = chosen.get(\"total_precip\") or 0\n",
        "    windspeed = chosen.get(\"windspeed\")\n",
        "    humidity = chosen.get(\"humidity\")\n",
        "    is_ai_estimated = chosen.get(\"ai_estimated\")\n",
        "\n",
        "    if attribute == \"temperature\":\n",
        "        sentence = f\"In {city} on {date_text}, the average temperature is around {average_temp}°C (high {max_temp}°C / low {min_temp}°C).\"\n",
        "    elif attribute == \"precipitation\":\n",
        "        sentence = f\"In {city} on {date_text}, total precipitation is approximately {total_precipitation} mm.\"\n",
        "    elif attribute == \"wind\":\n",
        "        sentence = f\"In {city} on {date_text}, wind speed is about {windspeed} km/h.\"\n",
        "    elif attribute == \"humidity\":\n",
        "        sentence = f\"In {city} on {date_text}, humidity is around {humidity}%.\"\n",
        "    else:\n",
        "       sentence = (\n",
        "            f\"In {city} on {date_text}, average {average_temp}°C (high {max_temp}°C / low {min_temp}°C), \"\n",
        "            f\"precipitation {total_precipitation} mm, wind {windspeed} km/h, humidity {humidity}%.\"\n",
        "        )\n",
        "\n",
        "    if is_ai_estimated:\n",
        "        sentence += \" (last part estimated by AI)\"\n",
        "\n",
        "    return sentence"
      ]
    },
    {
      "cell_type": "markdown",
      "id": "fde44479",
      "metadata": {
        "id": "fde44479"
      },
      "source": [
        "## 🧪 Testing and Examples"
      ]
    },
    {
      "cell_type": "code",
      "execution_count": 77,
      "id": "4e573901",
      "metadata": {
        "id": "4e573901",
        "colab": {
          "base_uri": "https://localhost:8080/"
        },
        "outputId": "66ba37bc-b800-4784-8aaa-c9b86d7ecde1"
      },
      "outputs": [
        {
          "output_type": "stream",
          "name": "stdout",
          "text": [
            "{'City': 'Perth', 'Date': 'today', 'attribute': 'precipitation'}\n"
          ]
        }
      ],
      "source": [
        "# Include sample input/output for each function\n",
        "\n",
        "# Test parse_weather_question()\n",
        "example_question = \"Will it rain in Perth today?\"\n",
        "parsed = parse_weather_question(example_question)\n",
        "print(parsed)"
      ]
    },
    {
      "cell_type": "code",
      "source": [
        "# Test get_weather_data()\n",
        "data = get_weather_data(\"Perth\", forecast_days=3)\n",
        "print(json.dumps(data, indent=2))"
      ],
      "metadata": {
        "colab": {
          "base_uri": "https://localhost:8080/"
        },
        "id": "SA8yNs6RSoTt",
        "outputId": "3cf12032-9ac8-48f2-c134-04095ca01a1b"
      },
      "id": "SA8yNs6RSoTt",
      "execution_count": 78,
      "outputs": [
        {
          "output_type": "stream",
          "name": "stdout",
          "text": [
            "{\n",
            "  \"location\": \"Perth\",\n",
            "  \"current_weather\": {\n",
            "    \"temperature\": \"16\",\n",
            "    \"windspeed\": \"11\",\n",
            "    \"humidity\": \"63\",\n",
            "    \"precipitation\": \"0.2\",\n",
            "    \"descripption\": \"Partly cloudy\"\n",
            "  },\n",
            "  \"daily\": [\n",
            "    {\n",
            "      \"date\": \"2025-10-19\",\n",
            "      \"average_temp\": \"16\",\n",
            "      \"windspeed\": null,\n",
            "      \"humidity\": null,\n",
            "      \"total_precip\": null,\n",
            "      \"max_temp\": \"19\",\n",
            "      \"min_temp\": \"14\"\n",
            "    },\n",
            "    {\n",
            "      \"date\": \"2025-10-20\",\n",
            "      \"average_temp\": \"14\",\n",
            "      \"windspeed\": null,\n",
            "      \"humidity\": null,\n",
            "      \"total_precip\": null,\n",
            "      \"max_temp\": \"17\",\n",
            "      \"min_temp\": \"13\"\n",
            "    },\n",
            "    {\n",
            "      \"date\": \"2025-10-21\",\n",
            "      \"average_temp\": \"15\",\n",
            "      \"windspeed\": null,\n",
            "      \"humidity\": null,\n",
            "      \"total_precip\": null,\n",
            "      \"max_temp\": \"18\",\n",
            "      \"min_temp\": \"11\"\n",
            "    }\n",
            "  ]\n",
            "}\n"
          ]
        }
      ]
    },
    {
      "cell_type": "code",
      "source": [
        "# Test generate_weather_response()\n",
        "parsed_question = {\n",
        "    \"City\": \"Perth\",\n",
        "    \"Date\": \"tomorrow\",\n",
        "    \"attribute\": \"temperature\"\n",
        "}\n",
        "\n",
        "response = generate_weather_response(parsed_question, data)\n",
        "print(response)"
      ],
      "metadata": {
        "colab": {
          "base_uri": "https://localhost:8080/"
        },
        "id": "Fp5TFiTbTbMw",
        "outputId": "37e15e90-d7d4-4de8-d197-fbc164bd7006"
      },
      "id": "Fp5TFiTbTbMw",
      "execution_count": 85,
      "outputs": [
        {
          "output_type": "stream",
          "name": "stdout",
          "text": [
            "In Perth on Monday, October 20, the average temperature is around 14°C (high 17°C / low 13°C).\n"
          ]
        }
      ]
    },
    {
      "cell_type": "code",
      "source": [
        "# Test create_temperature_visualisation()\n",
        "create_temperature_visualisation(data)"
      ],
      "metadata": {
        "colab": {
          "base_uri": "https://localhost:8080/",
          "height": 602
        },
        "id": "qyeB1E6uUvfM",
        "outputId": "1628d790-3279-4245-e761-6f5d488dfb82"
      },
      "id": "qyeB1E6uUvfM",
      "execution_count": 87,
      "outputs": [
        {
          "output_type": "display_data",
          "data": {
            "text/plain": [
              "<Figure size 1000x600 with 1 Axes>"
            ],
            "image/png": "[encoded data removed]"
          },
          "metadata": {}
        }
      ]
    },
    {
      "cell_type": "code",
      "source": [
        "# Test create_precipitation_visualisation()\n",
        "create_precipitation_visualisation(data)"
      ],
      "metadata": {
        "colab": {
          "base_uri": "https://localhost:8080/",
          "height": 602
        },
        "id": "HduLd3sMU6xH",
        "outputId": "f0917f76-a7d9-4bbc-d247-b618766b8a98"
      },
      "id": "HduLd3sMU6xH",
      "execution_count": 88,
      "outputs": [
        {
          "output_type": "display_data",
          "data": {
            "text/plain": [
              "<Figure size 1000x600 with 1 Axes>"
            ],
            "image/png": "[encoded data removed]"
          },
          "metadata": {}
        }
      ]
    },
    {
      "cell_type": "code",
      "source": [
        "# Test create_windspeed_visualisation()\n",
        "create_windspeed_visualisation(data)"
      ],
      "metadata": {
        "colab": {
          "base_uri": "https://localhost:8080/",
          "height": 602
        },
        "id": "iZQS-7d8VCWA",
        "outputId": "a05aeda8-a7f2-44a8-814b-8d86069049cc"
      },
      "id": "iZQS-7d8VCWA",
      "execution_count": 89,
      "outputs": [
        {
          "output_type": "display_data",
          "data": {
            "text/plain": [
              "<Figure size 1000x600 with 1 Axes>"
            ],
            "image/png": "[encoded data removed]"
          },
          "metadata": {}
        }
      ]
    },
    {
      "cell_type": "code",
      "source": [
        "# Test create_humidity_visualisation()\n",
        "create_humidity_visualisation(data)"
      ],
      "metadata": {
        "colab": {
          "base_uri": "https://localhost:8080/",
          "height": 602
        },
        "id": "FSaxcOMQVIxr",
        "outputId": "97c0d5a4-a72b-4ae0-81cd-732500aae989"
      },
      "id": "FSaxcOMQVIxr",
      "execution_count": 90,
      "outputs": [
        {
          "output_type": "display_data",
          "data": {
            "text/plain": [
              "<Figure size 1000x600 with 1 Axes>"
            ],
            "image/png": "[encoded data removed]"
          },
          "metadata": {}
        }
      ]
    },
    {
      "cell_type": "code",
      "source": [
        "# Test ai_extend_forecast()\n",
        "extended_data = ai_extend_forecast(data)\n",
        "print(json.dumps(extended_data, indent=2))"
      ],
      "metadata": {
        "colab": {
          "base_uri": "https://localhost:8080/"
        },
        "id": "XRl6bcaVVOCs",
        "outputId": "950cc8ae-b10b-4917-990e-af0f63e8e7c3"
      },
      "id": "XRl6bcaVVOCs",
      "execution_count": 91,
      "outputs": [
        {
          "output_type": "stream",
          "name": "stderr",
          "text": [
            "[WARNING] Error during request (attempt 1): 405 method not allowed\n",
            "WARNING:hands_on_ai:Error during request (attempt 1): 405 method not allowed\n"
          ]
        },
        {
          "output_type": "stream",
          "name": "stdout",
          "text": [
            "Hang tight, I'm thinking... trying again!\n"
          ]
        },
        {
          "output_type": "stream",
          "name": "stderr",
          "text": [
            "[WARNING] Error during request (attempt 2): 405 method not allowed\n",
            "WARNING:hands_on_ai:Error during request (attempt 2): 405 method not allowed\n"
          ]
        },
        {
          "output_type": "stream",
          "name": "stdout",
          "text": [
            "AI raw output: ❌ Error: 405 method not allowed\n",
            " Model output not JSON — skipping extension.\n",
            "{\n",
            "  \"location\": \"Perth\",\n",
            "  \"current_weather\": {\n",
            "    \"temperature\": \"16\",\n",
            "    \"windspeed\": \"11\",\n",
            "    \"humidity\": \"63\",\n",
            "    \"precipitation\": \"0.2\",\n",
            "    \"descripption\": \"Partly cloudy\"\n",
            "  },\n",
            "  \"daily\": [\n",
            "    {\n",
            "      \"date\": \"2025-10-19\",\n",
            "      \"average_temp\": \"16\",\n",
            "      \"windspeed\": null,\n",
            "      \"humidity\": null,\n",
            "      \"total_precip\": null,\n",
            "      \"max_temp\": \"19\",\n",
            "      \"min_temp\": \"14\"\n",
            "    },\n",
            "    {\n",
            "      \"date\": \"2025-10-20\",\n",
            "      \"average_temp\": \"14\",\n",
            "      \"windspeed\": null,\n",
            "      \"humidity\": null,\n",
            "      \"total_precip\": null,\n",
            "      \"max_temp\": \"17\",\n",
            "      \"min_temp\": \"13\"\n",
            "    },\n",
            "    {\n",
            "      \"date\": \"2025-10-21\",\n",
            "      \"average_temp\": \"15\",\n",
            "      \"windspeed\": null,\n",
            "      \"humidity\": null,\n",
            "      \"total_precip\": null,\n",
            "      \"max_temp\": \"18\",\n",
            "      \"min_temp\": \"11\"\n",
            "    }\n",
            "  ]\n",
            "}\n"
          ]
        }
      ]
    },
    {
      "cell_type": "code",
      "source": [
        "#Full Test\n",
        "\n",
        "user_input = \"What will the temperature be in Perth tomorrow?\"\n",
        "parsed = parse_weather_question(user_input)\n",
        "result = generate_weather_response(parsed, data)\n",
        "\n",
        "print(\"User Question:\", user_input)\n",
        "print(\"Parsed:\", parsed)\n",
        "print(\"Response:\", result)"
      ],
      "metadata": {
        "colab": {
          "base_uri": "https://localhost:8080/"
        },
        "id": "w82PpezZVYgh",
        "outputId": "13cb606f-0143-4302-c334-658ae5825a87"
      },
      "id": "w82PpezZVYgh",
      "execution_count": 92,
      "outputs": [
        {
          "output_type": "stream",
          "name": "stdout",
          "text": [
            "User Question: What will the temperature be in Perth tomorrow?\n",
            "Parsed: {'City': 'Perth', 'Date': 'tomorrow', 'attribute': 'temperature'}\n",
            "Response: In Perth on Monday, October 20, the average temperature is around 14°C (high 17°C / low 13°C).\n"
          ]
        }
      ]
    },
    {
      "cell_type": "markdown",
      "id": "d2885880",
      "metadata": {
        "id": "d2885880"
      },
      "source": [
        "## 🗂️ AI Prompting Log (Optional)\n",
        "Add markdown cells here summarising prompts used or link to AI conversations in the `ai-conversations/` folder."
      ]
    }
  ],
  "metadata": {
    "language_info": {
      "name": "python"
    },
    "colab": {
      "provenance": [],
      "include_colab_link": true
    },
    "kernelspec": {
      "name": "python3",
      "display_name": "Python 3"
    }
  },
  "nbformat": 4,
  "nbformat_minor": 5
}
